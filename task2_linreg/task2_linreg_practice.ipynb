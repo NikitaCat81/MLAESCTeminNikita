{
 "cells": [
  {
   "cell_type": "markdown",
   "metadata": {},
   "source": [
    "# ДЗ Линейная регрессия\n",
    "\n",
    "В данном задании мы рассмотрим набор данных об учащихся, собранный в 2006 году в одной из школ Португалии. Данные представлены в неудобном для машинного обучения виде, и содержат мусор. Ваша задача &mdash; привести их к надлежащему виду и обучить на них простую модель.\n",
    "\n",
    "Данные состоят из четырех файлов:\n",
    "- data.csv &mdash; основная таблица с информацией о учащихся\n",
    "- scores.csv &mdash; список финальных оценок по одному из предметов (20-балльная шкала переведенная в проценты)\n",
    "- attendance.csv &mdash; таблица посещений занятий по этому предмету\n",
    "- school_support.txt &mdash; список учащихся, которым оказывается финансовая поддержка\n",
    "\n",
    "Ваша задача &mdash; построить модель для предсказания финальных оценок исходя из всех остальных данных и проверить качество ее работы с помощью кросс-валидации. В качестве алгоритма мы будем использовать линейную регрессию\n",
    "\n",
    "Расшифровка столбцов в data.csv для справки:\n",
    "- age &mdash; возраст\n",
    "- Medu &mdash; уровень образования матери (по некоторой условной шкале)\n",
    "- Fedu &mdash; уровень образования отца (по некоторой условной шкале)\n",
    "- traveltime &mdash; время в пути до школы (1 – < 15 мин., 2 – от 15 до 30 мин., 3 – от 30 мин. to 1 ч.\n",
    "или 4 – > 1 ч.)\n",
    "- studytime &mdash; время, затрачиваемое на занятия вне школы (1 – < 2 ч., 2 – от 2 до 5 ч., 3 – от 5 до 10 ч. или 4 – > 10 ч.)\n",
    "- famrel &mdash; насколько хорошие отношения в семье у учащегося (по некоторой условной шкале)\n",
    "- freetime &mdash; количество свободного времени вне школы (по некоторой условной шкале)\n",
    "- goout &mdash; время, затрачиваемое на общение с друзьями (по некоторой условной шкале)\n",
    "- Dalc &mdash; количество употребления алкоголя в учебные дни (по некоторой условной шкале)\n",
    "- Walc &mdash; количество употребления алкоголя в неучебные дни (по некоторой условной шкале)\n",
    "- health &mdash; уровень здоровья (по некоторой условной шкале)\n",
    "- sex_M &mdash; пол: мужской (1) или женский (0)\n",
    "- address_U &mdash; живет ли учащийся в городе (1) или в пригороде (0)\n",
    "- famsize_LE3 &mdash; размер семьи: не больше 3 человек (1) или больше (0)\n",
    "- Pstatus_T &mdash; живут ли родители вместе (1) или отдельно (0)\n",
    "- nursery &mdash; посещал ли учащийся детский сад\n",
    "- plans_university &mdash; планирует ли учащийся поступать в университет (-1 или 1)\n",
    "- past_failures &mdash; количество неудовлетворительных оценок по другим предметам ранее (от 0 до 4)\n",
    "\n",
    "*Примечание. Несколько признаков в данных содержат ошибки/проблемы/некорректности. Эти проблемы нужно исправить. Для\n",
    "проверки &mdash; всего в данных таких проблем четыре.*"
   ]
  },
  {
   "cell_type": "markdown",
   "metadata": {},
   "source": [
    "### Задача 1: сломанный признак (а может и не один)\n",
    "__(1 балл)__\n",
    "\n",
    "Загрузите таблицу data.csv.\n",
    "\n",
    "Найдите в данных сломанный признак (он не соответствует описанию) и исправьте его."
   ]
  },
  {
   "cell_type": "code",
   "execution_count": 4,
   "metadata": {
    "collapsed": true
   },
   "outputs": [
    {
     "name": "stdout",
     "output_type": "stream",
     "text": [
      "[  16   17   18   15   19 1987 1988 1989   20 1990   21 1991   22]\n",
      "[16 17 18 15 19 20 21 22]\n",
      "     age  Medu  Fedu  traveltime  studytime  famrel  freetime  goout  Dalc  \\\n",
      "0     16     4     4           1          2       5         4    4.0   1.0   \n",
      "1     17     4     4           1          1       5         3    4.0   1.0   \n",
      "2     16     1     1           2          1       4         5    5.0   2.0   \n",
      "3     18     1     2           2          1       3         4    4.0   2.0   \n",
      "4     17     2     1           2          2       4         2    5.0   1.0   \n",
      "..   ...   ...   ...         ...        ...     ...       ...    ...   ...   \n",
      "644   18     2     2           4          2       4         2    5.0   1.0   \n",
      "645   15     4     4           2          2       4         3    1.0   1.0   \n",
      "646   21     1     1           2          2       5         3    3.0   5.0   \n",
      "647   16     2     2           1          1       4         3    4.0   1.0   \n",
      "648   16     2     3          40          2       4         5    4.0   1.0   \n",
      "\n",
      "     Walc  health  sex_M  address_U  famsize_LE3  Pstatus_T  nursery  \\\n",
      "0     2.0       5      1          1            0          1        1   \n",
      "1     2.0       5      0          1            0          1        1   \n",
      "2     4.0       5      1          0            1          1        1   \n",
      "3     4.0       4      1          1            0          1        0   \n",
      "4     2.0       5      0          0            0          1        1   \n",
      "..    ...     ...    ...        ...          ...        ...      ...   \n",
      "644   1.0       2      0          1            0          1        1   \n",
      "645   1.0       5      1          1            0          1        1   \n",
      "646   2.0       4      1          0            1          1        1   \n",
      "647   2.0       1      0          1            1          0        1   \n",
      "648   2.0       1      0          0            0          1        1   \n",
      "\n",
      "     plans_university  past_failures  \n",
      "0                   1              0  \n",
      "1                   1              0  \n",
      "2                   1              0  \n",
      "3                  -1              0  \n",
      "4                   1              0  \n",
      "..                ...            ...  \n",
      "644                 1              0  \n",
      "645                 1              0  \n",
      "646                -1              2  \n",
      "647                -1              0  \n",
      "648                 1              0  \n",
      "\n",
      "[649 rows x 18 columns]\n"
     ]
    }
   ],
   "source": [
    "import pandas as pd\n",
    "\n",
    "\n",
    "data = pd.read_csv(\"data.csv\")\n",
    "\n",
    "x = data['plans_universitypast_failures'].tolist()\n",
    "\n",
    "a = []\n",
    "b = []\n",
    "\n",
    "for i in range(0, len(x)):\n",
    "    a.append(int(x[i]/10))\n",
    "    b.append(int(abs(x[i])%10))\n",
    "\n",
    "data = data.drop(['plans_universitypast_failures'], axis=1)\n",
    "\n",
    "data['plans_university'] = a\n",
    "data['past_failures'] = b\n",
    "\n",
    "print(data['age'].unique())\n",
    "current_year = 2006\n",
    "data['age'] = data['age'].apply(lambda x: current_year - x if x > 30 else x)\n",
    "print(data['age'].unique())\n",
    "data.to_csv('data_corrected.csv', index=False)\n",
    "\n",
    "print(data)"
   ]
  },
  {
   "cell_type": "markdown",
   "metadata": {},
   "source": [
    "### Задача 2: пропуски в данных \n",
    "__(1 балл)__\n",
    "\n",
    "Проверьте, есть ли в данных пропуски (значения NaN). Замените все пропущенные значения на среднее значение этого признака по столбцу.\n",
    "\n",
    "*Hint: изучите в pandas функции loc, isnull, а также передачу булевых массивов в качестве индексов.*"
   ]
  },
  {
   "cell_type": "code",
   "execution_count": 10,
   "metadata": {
    "collapsed": true
   },
   "outputs": [
    {
     "name": "stdout",
     "output_type": "stream",
     "text": [
      "age                 0\n",
      "Medu                0\n",
      "Fedu                0\n",
      "traveltime          0\n",
      "studytime           0\n",
      "famrel              0\n",
      "freetime            0\n",
      "goout               0\n",
      "Dalc                0\n",
      "Walc                0\n",
      "health              0\n",
      "sex_M               0\n",
      "address_U           0\n",
      "famsize_LE3         0\n",
      "Pstatus_T           0\n",
      "nursery             0\n",
      "plans_university    0\n",
      "past_failures       0\n",
      "dtype: int64\n",
      "0\n"
     ]
    },
    {
     "name": "stderr",
     "output_type": "stream",
     "text": [
      "C:\\Users\\Admin\\AppData\\Local\\Temp\\ipykernel_14504\\2173782381.py:3: FutureWarning: A value is trying to be set on a copy of a DataFrame or Series through chained assignment using an inplace method.\n",
      "The behavior will change in pandas 3.0. This inplace method will never work because the intermediate object on which we are setting values always behaves as a copy.\n",
      "\n",
      "For example, when doing 'df[col].method(value, inplace=True)', try using 'df.method({col: value}, inplace=True)' or df[col] = df[col].method(value) instead, to perform the operation inplace on the original object.\n",
      "\n",
      "\n",
      "  data['goout'].fillna(round(data['goout'].mean(), 1), inplace = True)\n",
      "C:\\Users\\Admin\\AppData\\Local\\Temp\\ipykernel_14504\\2173782381.py:4: FutureWarning: A value is trying to be set on a copy of a DataFrame or Series through chained assignment using an inplace method.\n",
      "The behavior will change in pandas 3.0. This inplace method will never work because the intermediate object on which we are setting values always behaves as a copy.\n",
      "\n",
      "For example, when doing 'df[col].method(value, inplace=True)', try using 'df.method({col: value}, inplace=True)' or df[col] = df[col].method(value) instead, to perform the operation inplace on the original object.\n",
      "\n",
      "\n",
      "  data['Dalc'].fillna(round(data['Dalc'].mean(), 1), inplace = True)\n",
      "C:\\Users\\Admin\\AppData\\Local\\Temp\\ipykernel_14504\\2173782381.py:5: FutureWarning: A value is trying to be set on a copy of a DataFrame or Series through chained assignment using an inplace method.\n",
      "The behavior will change in pandas 3.0. This inplace method will never work because the intermediate object on which we are setting values always behaves as a copy.\n",
      "\n",
      "For example, when doing 'df[col].method(value, inplace=True)', try using 'df.method({col: value}, inplace=True)' or df[col] = df[col].method(value) instead, to perform the operation inplace on the original object.\n",
      "\n",
      "\n",
      "  data['Walc'].fillna(round(data['Walc'].mean(), 1), inplace = True)\n"
     ]
    }
   ],
   "source": [
    "nan_count = data.isna().sum()\n",
    "print(nan_count)\n",
    "data['goout'].fillna(round(data['goout'].mean(), 1), inplace = True)\n",
    "data['Dalc'].fillna(round(data['Dalc'].mean(), 1), inplace = True)\n",
    "data['Walc'].fillna(round(data['Walc'].mean(), 1), inplace = True)\n",
    "nan_count = data.isna().sum().sum()\n",
    "print(nan_count)"
   ]
  },
  {
   "cell_type": "markdown",
   "metadata": {},
   "source": [
    "### Задача 3: нормализация данных\n",
    "__(1 балл)__\n",
    "\n",
    "Нормализуйте данные любым способом"
   ]
  },
  {
   "cell_type": "code",
   "execution_count": 12,
   "metadata": {
    "collapsed": true
   },
   "outputs": [
    {
     "name": "stdout",
     "output_type": "stream",
     "text": [
      "[[0.14285714 1.         1.         ... 1.         1.         0.        ]\n",
      " [0.28571429 1.         1.         ... 1.         1.         0.        ]\n",
      " [0.14285714 0.25       0.25       ... 1.         1.         0.        ]\n",
      " ...\n",
      " [0.85714286 0.25       0.25       ... 1.         0.         0.66666667]\n",
      " [0.14285714 0.5        0.5        ... 1.         0.         0.        ]\n",
      " [0.14285714 0.5        0.75       ... 1.         1.         0.        ]]\n"
     ]
    }
   ],
   "source": [
    "from sklearn.preprocessing import MinMaxScaler, StandardScaler\n",
    "\n",
    "scaler = MinMaxScaler()\n",
    "data_norm = scaler.fit_transform(data)\n",
    "\n",
    "print(data_norm)"
   ]
  },
  {
   "cell_type": "markdown",
   "metadata": {},
   "source": [
    "### Задача 4: кросс-валидация для исходных данных\n",
    "__(1 балл)__\n",
    "\n",
    "Загрузите файл scores.csv и протестируйте, как линейная регрессия предсказывает ответ сейчас (с помощью кросс-валидации).\n",
    "\n",
    "Кроссвалидацию сделайте по 4 разбивкам. Выведите качество в каждом их разбиений.\n",
    "\n",
    "*Hint: воспользуйтесь sklearn.linear_model и sklearn.model_selection.*"
   ]
  },
  {
   "cell_type": "code",
   "execution_count": 22,
   "metadata": {},
   "outputs": [
    {
     "name": "stdout",
     "output_type": "stream",
     "text": [
      "     age  Medu  Fedu  traveltime  studytime  famrel  freetime  goout  Dalc  \\\n",
      "0     16     4     4           1          2       5         4    4.0   1.0   \n",
      "1     17     4     4           1          1       5         3    4.0   1.0   \n",
      "2     16     1     1           2          1       4         5    5.0   2.0   \n",
      "3     18     1     2           2          1       3         4    4.0   2.0   \n",
      "4     17     2     1           2          2       4         2    5.0   1.0   \n",
      "..   ...   ...   ...         ...        ...     ...       ...    ...   ...   \n",
      "644   18     2     2           4          2       4         2    5.0   1.0   \n",
      "645   15     4     4           2          2       4         3    1.0   1.0   \n",
      "646   21     1     1           2          2       5         3    3.0   5.0   \n",
      "647   16     2     2           1          1       4         3    4.0   1.0   \n",
      "648   16     2     3          40          2       4         5    4.0   1.0   \n",
      "\n",
      "     Walc  health  sex_M  address_U  famsize_LE3  Pstatus_T  nursery  \\\n",
      "0     2.0       5      1          1            0          1        1   \n",
      "1     2.0       5      0          1            0          1        1   \n",
      "2     4.0       5      1          0            1          1        1   \n",
      "3     4.0       4      1          1            0          1        0   \n",
      "4     2.0       5      0          0            0          1        1   \n",
      "..    ...     ...    ...        ...          ...        ...      ...   \n",
      "644   1.0       2      0          1            0          1        1   \n",
      "645   1.0       5      1          1            0          1        1   \n",
      "646   2.0       4      1          0            1          1        1   \n",
      "647   2.0       1      0          1            1          0        1   \n",
      "648   2.0       1      0          0            0          1        1   \n",
      "\n",
      "     plans_university  past_failures  \n",
      "0                   1              0  \n",
      "1                   1              0  \n",
      "2                   1              0  \n",
      "3                  -1              0  \n",
      "4                   1              0  \n",
      "..                ...            ...  \n",
      "644                 1              0  \n",
      "645                 1              0  \n",
      "646                -1              2  \n",
      "647                -1              0  \n",
      "648                 1              0  \n",
      "\n",
      "[649 rows x 18 columns]\n",
      "     70.0\n",
      "0    85.0\n",
      "1    45.0\n",
      "2    55.0\n",
      "3    55.0\n",
      "4    80.0\n",
      "..    ...\n",
      "643  50.0\n",
      "644  75.0\n",
      "645  50.0\n",
      "646  40.0\n",
      "647  75.0\n",
      "\n",
      "[648 rows x 1 columns]\n"
     ]
    }
   ],
   "source": [
    "from sklearn.linear_model import LogisticRegression\n",
    "from sklearn.model_selection import KFold, train_test_split\n",
    "from sklearn.metrics import accuracy_score\n",
    "import numpy as np\n",
    "\n",
    "df = pd.read_csv('scores.csv')\n",
    "\n",
    "# kf = KFold(n_splits=4)\n",
    "# model = LogisticRegression()\n",
    " \n",
    "# acc = []\n",
    "\n",
    "# for train_index, test_index in kf.split(X):\n",
    "#     X_train, X_test, y_train, y_test = train_test_split(data, df, test_size=0.2, random_state=42)\n",
    "#     model.fit(X_train, y_train)\n",
    "#     pred = model.predict(X_test)\n",
    "#     acc.append(accuracy_score(y_test, pred))\n",
    "\n",
    "# print(acc)\n",
    "print(data)\n",
    "print(df)"
   ]
  },
  {
   "cell_type": "markdown",
   "metadata": {},
   "source": [
    "### Задача 5: полные данные\n",
    "__(2 балла)__\n",
    "\n",
    "Воспользуйтесь файлами attendance.csv и school_support.txt для того, чтобы добавить новые признаки в данные. Желательно по максимуму использовать возможности pandas для упрощения преобразований.\n",
    "\n",
    "school_suport число в строке значит что i-ый школьник из исходной таблицы получал мат помощь (обратите внимание что строк в файле меньше, подумайте как правильно импортировать данные)\n",
    "\n",
    "Добавьте данные таким образом, чтобы качество выросло"
   ]
  },
  {
   "cell_type": "code",
   "execution_count": null,
   "metadata": {
    "collapsed": true
   },
   "outputs": [],
   "source": [
    "# Your code here\n",
    "# ..."
   ]
  },
  {
   "cell_type": "markdown",
   "metadata": {},
   "source": [
    "### Задача 6: борьба с выбросами\n",
    "__(1.5 балла)__\n",
    "\n",
    "Качество предсказания может ухудшаться, если в данных присутствуют корректные значения признаков (с точки зрения чтения данных и применения методов), но не соответствующие реальным объектам. Например, данные могли быть введены в неверном формате, а потом слишком грубо приведены к общему виду, из-за чего ошибка не была замечена.\n",
    "Попробуем от такого избавиться &mdash; а для этого такие объекты нужно сначала найти. Конечно, нам еще недоступны многие продвинутые способы, но давайте попробуем обойтись простыми.\n",
    "\n",
    "Первый способ это сделать &mdash; посмотреть для каждого признака на распределение его значений и проверить крайние значения на правдоподобность. (постройте гистограммы для признаков, как минимум для подозрительных)\n",
    "\n",
    "*Hint 1: используйте функцию DataFrame.hist*\n",
    "\n",
    "*Hint 2: в описании датасета выше есть информация, необходимая для восстановления правильных значений*"
   ]
  },
  {
   "cell_type": "code",
   "execution_count": null,
   "metadata": {
    "collapsed": true
   },
   "outputs": [],
   "source": [
    "# Your code here\n",
    "# ..."
   ]
  },
  {
   "cell_type": "markdown",
   "metadata": {},
   "source": [
    "__(1.5 балла)__"
   ]
  },
  {
   "cell_type": "markdown",
   "metadata": {},
   "source": [
    "Другой простой способ найти выбросы &mdash; сделать предсказание и посчитать ошибку на каждом объекте по отдельности и посмотреть на объекты с наибольшей ошибкой. Обучите линейную регрессию (функция fit) и для каждого объекта посчитайте среднеквадратичное отклонение. Постройте гистограмму распределения ошибок. Посмотрите на гистограмму и удалите из выборки те объекты на которых ошибка слишком большая.\n",
    "\n",
    "Обратите внимание, что просто удалять все объекты с высокой ошибкой нельзя &mdash; это, конечно, хороший способ добиться меньшей ошибки (на данной выборке), но одновременно вы ухудшите обобщающую способность алгоритма. Вместо этого вам нужно найти однозначно ошибочные записи и их исправить.\n",
    "\n",
    "*Hint: возможно, все проблемы уже были найдены первым способом; для проверки &mdash; в сумме здесь нужно исправить 3 проблемы.*"
   ]
  },
  {
   "cell_type": "markdown",
   "metadata": {},
   "source": [
    "Для поиска ошибки на одном отдельном обьекте придётся обучить линейную регрессию руками. Частичный пример, допишите код. Постройте гистограмму распределения ошибок"
   ]
  },
  {
   "cell_type": "code",
   "execution_count": 3,
   "metadata": {},
   "outputs": [
    {
     "ename": "SyntaxError",
     "evalue": "invalid syntax (3289234131.py, line 4)",
     "output_type": "error",
     "traceback": [
      "\u001b[1;36m  Input \u001b[1;32mIn [3]\u001b[1;36m\u001b[0m\n\u001b[1;33m    prediction = #calculate prediction for one object for vector x\u001b[0m\n\u001b[1;37m                 ^\u001b[0m\n\u001b[1;31mSyntaxError\u001b[0m\u001b[1;31m:\u001b[0m invalid syntax\n"
     ]
    }
   ],
   "source": [
    "import sklearn\n",
    "from sklearn import linear_model\n",
    "regression = linear_model.LinearRegression().fit(data, result) #create model and train it\n",
    "prediction = #calculate prediction for one object for vector x\n",
    "error = (prediction - y)**2 #simple error - square error"
   ]
  },
  {
   "cell_type": "code",
   "execution_count": 1,
   "metadata": {},
   "outputs": [],
   "source": [
    "# Your code here\n",
    "# ..."
   ]
  },
  {
   "cell_type": "markdown",
   "metadata": {},
   "source": [
    "### Финальное предсказание и отчёт (1 балл)\n",
    "\n",
    "Проведите предсказание еще раз и сравните качество с исходным. Запишите свои наблюдения - как изменялось качество обучения модели при использовании разных модификаций данных. "
   ]
  },
  {
   "cell_type": "code",
   "execution_count": null,
   "metadata": {
    "collapsed": true
   },
   "outputs": [],
   "source": [
    "# Your code here\n",
    "# ..."
   ]
  }
 ],
 "metadata": {
  "kernelspec": {
   "display_name": "Python 3",
   "language": "python",
   "name": "python3"
  },
  "language_info": {
   "codemirror_mode": {
    "name": "ipython",
    "version": 3
   },
   "file_extension": ".py",
   "mimetype": "text/x-python",
   "name": "python",
   "nbconvert_exporter": "python",
   "pygments_lexer": "ipython3",
   "version": "3.13.0"
  }
 },
 "nbformat": 4,
 "nbformat_minor": 2
}
